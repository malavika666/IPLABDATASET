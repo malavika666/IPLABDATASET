{
 "cells": [
  {
   "cell_type": "code",
   "execution_count": 4,
   "id": "009f8a2f",
   "metadata": {},
   "outputs": [
    {
     "name": "stdout",
     "output_type": "stream",
     "text": [
      "2 2 2 2 2 \n",
      "2 1 1 1 2 \n",
      "2 1 0 1 2 \n",
      "2 1 1 1 2 \n",
      "2 2 2 2 2 \n"
     ]
    },
    {
     "ename": "NameError",
     "evalue": "name 'mat2gray' is not defined",
     "output_type": "error",
     "traceback": [
      "\u001b[1;31m---------------------------------------------------------------------------\u001b[0m",
      "\u001b[1;31mNameError\u001b[0m                                 Traceback (most recent call last)",
      "\u001b[1;32m~\\AppData\\Local\\Temp/ipykernel_2928/2392855948.py\u001b[0m in \u001b[0;36m<module>\u001b[1;34m\u001b[0m\n\u001b[0;32m     28\u001b[0m \u001b[1;33m\u001b[0m\u001b[0m\n\u001b[0;32m     29\u001b[0m \u001b[0mprintPattern\u001b[0m\u001b[1;33m(\u001b[0m\u001b[0mn\u001b[0m\u001b[1;33m)\u001b[0m\u001b[1;33m;\u001b[0m\u001b[1;33m\u001b[0m\u001b[1;33m\u001b[0m\u001b[0m\n\u001b[1;32m---> 30\u001b[1;33m \u001b[0mI\u001b[0m \u001b[1;33m=\u001b[0m \u001b[0mmat2gray\u001b[0m\u001b[1;33m(\u001b[0m\u001b[0mn\u001b[0m\u001b[1;33m,\u001b[0m\u001b[1;33m[\u001b[0m\u001b[0mi\u001b[0m\u001b[1;33m,\u001b[0m \u001b[0mj\u001b[0m\u001b[1;33m]\u001b[0m\u001b[1;33m)\u001b[0m\u001b[1;33m\u001b[0m\u001b[1;33m\u001b[0m\u001b[0m\n\u001b[0m\u001b[0;32m     31\u001b[0m \u001b[0mI\u001b[0m \u001b[1;33m=\u001b[0m \u001b[0mmat2gray\u001b[0m\u001b[1;33m(\u001b[0m\u001b[0mn\u001b[0m\u001b[1;33m)\u001b[0m\u001b[1;33m\u001b[0m\u001b[1;33m\u001b[0m\u001b[0m\n",
      "\u001b[1;31mNameError\u001b[0m: name 'mat2gray' is not defined"
     ]
    }
   ],
   "source": [
    "# Python3 program for printing\n",
    "# the rectangular pattern\n",
    " \n",
    "# Function to print the pattern\n",
    "def printPattern(n):\n",
    " \n",
    "    arraySize = n * 2 - 1;\n",
    "    result = [[0 for x in range(arraySize)]\n",
    "                 for y in range(arraySize)];\n",
    "         \n",
    "    # Fill the values\n",
    "    for i in range(arraySize):\n",
    "        for j in range(arraySize):\n",
    "            if(abs(i - (arraySize // 2)) >\n",
    "               abs(j - (arraySize // 2))):\n",
    "                result[i][j] = abs(i - (arraySize // 2)) ;\n",
    "            else:\n",
    "                result[i][j] = abs(j - (arraySize // 2));\n",
    "             \n",
    "    # Print the array\n",
    "    for i in range(arraySize):\n",
    "        for j in range(arraySize):\n",
    "            print(result[i][j], end = \" \");\n",
    "        print(\"\");\n",
    " \n",
    "# Driver Code\n",
    "n = 3;\n",
    " \n",
    "printPattern(n);\n",
    "I = mat2gray(n,[i, j])\n",
    "I = mat2gray(n)\n"
   ]
  },
  {
   "cell_type": "code",
   "execution_count": 11,
   "id": "26086ca6",
   "metadata": {},
   "outputs": [
    {
     "data": {
      "text/plain": [
       "array([[[ 52,  55,  64],\n",
       "        [ 52,  55,  64],\n",
       "        [ 53,  56,  65],\n",
       "        ...,\n",
       "        [ 30,  31,  36],\n",
       "        [ 29,  30,  35],\n",
       "        [ 29,  30,  35]],\n",
       "\n",
       "       [[ 52,  55,  64],\n",
       "        [ 52,  55,  64],\n",
       "        [ 53,  56,  65],\n",
       "        ...,\n",
       "        [ 30,  31,  36],\n",
       "        [ 29,  30,  35],\n",
       "        [ 29,  30,  35]],\n",
       "\n",
       "       [[ 52,  55,  64],\n",
       "        [ 53,  56,  65],\n",
       "        [ 53,  56,  65],\n",
       "        ...,\n",
       "        [ 30,  31,  36],\n",
       "        [ 30,  31,  36],\n",
       "        [ 29,  30,  35]],\n",
       "\n",
       "       ...,\n",
       "\n",
       "       [[122, 132, 144],\n",
       "        [122, 132, 144],\n",
       "        [123, 133, 145],\n",
       "        ...,\n",
       "        [ 75,  82,  90],\n",
       "        [ 75,  82,  90],\n",
       "        [ 74,  81,  89]],\n",
       "\n",
       "       [[123, 133, 145],\n",
       "        [123, 133, 145],\n",
       "        [123, 133, 145],\n",
       "        ...,\n",
       "        [ 76,  83,  91],\n",
       "        [ 75,  82,  90],\n",
       "        [ 75,  82,  90]],\n",
       "\n",
       "       [[123, 135, 147],\n",
       "        [123, 135, 147],\n",
       "        [123, 135, 147],\n",
       "        ...,\n",
       "        [ 75,  82,  92],\n",
       "        [ 75,  82,  92],\n",
       "        [ 75,  82,  92]]], dtype=uint8)"
      ]
     },
     "execution_count": 11,
     "metadata": {},
     "output_type": "execute_result"
    }
   ],
   "source": [
    "from PIL import Image\n",
    "from numpy import array\n",
    "im_1 = Image.open(\"i4.jpg\")\n",
    "ar= array(im_1)\n",
    "ar"
   ]
  },
  {
   "cell_type": "code",
   "execution_count": 47,
   "id": "684a9b9f",
   "metadata": {},
   "outputs": [
    {
     "data": {
      "image/png": "[encoded data removed]",
      "text/plain": [
       "<Figure size 432x324 with 1 Axes>"
      ]
     },
     "metadata": {
      "needs_background": "light"
     },
     "output_type": "display_data"
    }
   ],
   "source": [
    "from matplotlib import pyplot as plt\n",
    "import numpy as np\n",
    "\n",
    "# Set the figure size\n",
    "plt.rcParams[\"figure.figsize\"] = [6.00, 4.50]\n",
    "plt.rcParams[\"figure.autolayout\"] = True\n",
    "\n",
    "# Random data points\n",
    "data = np.random.rand(3, 3)\n",
    "\n",
    "# Plot the data using imshow with gray colormap\n",
    "plt.imshow(data, cmap='gray')\n",
    "\n",
    "# Display the plot\n",
    "plt.show()"
   ]
  },
  {
   "cell_type": "code",
   "execution_count": 50,
   "id": "bf314423",
   "metadata": {},
   "outputs": [
    {
     "data": {
      "image/png": "[encoded data removed]",
      "text/plain": [
       "<Figure size 432x324 with 1 Axes>"
      ]
     },
     "metadata": {
      "needs_background": "light"
     },
     "output_type": "display_data"
    }
   ],
   "source": [
    "import matplotlib.pyplot as plt\n",
    "       \n",
    "M =    ([2, 2, 2, 2, 2],  \n",
    "        [2, 1, 1, 1, 2],  \n",
    "        [2, 1, 0, 1, 2],  \n",
    "        [2, 1, 1, 1, 2],\n",
    "        [2, 2, 2, 2, 2])  \n",
    "plt.imshow(M,cmap='Blues')\n",
    "plt.show()\n"
   ]
  },
  {
   "cell_type": "code",
   "execution_count": 37,
   "id": "e7e99c70",
   "metadata": {},
   "outputs": [
    {
     "name": "stdout",
     "output_type": "stream",
     "text": [
      "[[251 251 251 251 251 251 251 251 251 251]\n",
      " [251 251 251 251 251 251 251 251 251 251]\n",
      " [251 251 251 251 251 251 251 251 251 251]\n",
      " [251 251 251 251 251 251 251 251 251 251]\n",
      " [251 251 251 251 251 251 251 251 251 251]\n",
      " [251 251 251 251 251 251 251 251 251 251]\n",
      " [251 251 251 251 251 251 251 251 251 251]\n",
      " [251 251 251 251 251 251 251 251 251 251]\n",
      " [251 251 251 251 251 251 251 251 251 251]\n",
      " [251 251 251 251 251 251 251 251 251 251]\n",
      " [251 251 251 251 251 251 251 251 251 251]\n",
      " [251 251 251 251 251 251 251 251 251 251]\n",
      " [251 251 251 251 251 251 251 251 251 251]\n",
      " [251 251 251 251 251 251 251 251 251 251]\n",
      " [251 251 251 251 251 251 251 251 251 251]\n",
      " [251 251 251 251 251 251 251 251 251 251]\n",
      " [251 251 251 251 251 251 251 251 251 251]\n",
      " [251 251 251 251 251 251 251 251 251 251]\n",
      " [251 251 251 251 251 251 251 251 251 251]\n",
      " [251 251 251 251 251 251 251 251 251 251]]\n"
     ]
    }
   ],
   "source": [
    "\n",
    "from PIL import Image\n",
    "\n",
    "# import required module\n",
    "import numpy as np\n",
    "  \n",
    "# use full() with a\n",
    "# constant value of 60\n",
    "array = np.full((20, 10), 251)\n",
    "  \n",
    "# display matrix\n",
    "print(array)\n",
    "img = Image.fromarray(array, 'RGB')\n",
    "img.show()"
   ]
  },
  {
   "cell_type": "code",
   "execution_count": 54,
   "id": "6c314472",
   "metadata": {},
   "outputs": [
    {
     "name": "stdout",
     "output_type": "stream",
     "text": [
      "[[2. 2. 2. 2. 2.]\n",
      " [2. 1. 1. 1. 2.]\n",
      " [2. 1. 0. 1. 2.]\n",
      " [2. 1. 1. 1. 2.]\n",
      " [2. 2. 2. 2. 2.]]\n"
     ]
    },
    {
     "data": {
      "image/png": "[encoded data removed]",
      "text/plain": [
       "<Figure size 432x324 with 1 Axes>"
      ]
     },
     "metadata": {
      "needs_background": "light"
     },
     "output_type": "display_data"
    }
   ],
   "source": [
    "import numpy as np\n",
    "x = np.ones((3, 3))\n",
    "x[1:-1, 1:-1] = 0\n",
    "x = np.pad(x, pad_width=1, mode='constant', constant_values=2)\n",
    "print(x)\n",
    "plt.imshow(x,cmap='gray')\n",
    "plt.show()\n",
    "\n"
   ]
  },
  {
   "cell_type": "code",
   "execution_count": null,
   "id": "5f1d6f0d",
   "metadata": {},
   "outputs": [],
   "source": []
  }
 ],
 "metadata": {
  "kernelspec": {
   "display_name": "Python 3 (ipykernel)",
   "language": "python",
   "name": "python3"
  },
  "language_info": {
   "codemirror_mode": {
    "name": "ipython",
    "version": 3
   },
   "file_extension": ".py",
   "mimetype": "text/x-python",
   "name": "python",
   "nbconvert_exporter": "python",
   "pygments_lexer": "ipython3",
   "version": "3.9.7"
  }
 },
 "nbformat": 4,
 "nbformat_minor": 5
}
