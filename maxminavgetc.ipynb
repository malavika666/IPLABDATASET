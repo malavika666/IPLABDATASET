{
 "cells": [
  {
   "cell_type": "code",
   "execution_count": 1,
   "id": "e3d2b460",
   "metadata": {},
   "outputs": [
    {
     "data": {
      "text/plain": [
       "255"
      ]
     },
     "execution_count": 1,
     "metadata": {},
     "output_type": "execute_result"
    }
   ],
   "source": [
    "import cv2\n",
    "import numpy as np\n",
    "img=cv2.imread('i5.jpg')\n",
    "cv2.imshow('i5.jpg',img)\n",
    "cv2.waitKey(0)\n",
    "#max_channels=np.amax([np.amax(img[:,:,0]),np.amax(img[:,:,1]),np.amax(img[:,:,2])])\n",
    "#print(max_channels)\n",
    "np.max(img)"
   ]
  },
  {
   "cell_type": "code",
   "execution_count": 2,
   "id": "479fcbb9",
   "metadata": {},
   "outputs": [
    {
     "data": {
      "text/plain": [
       "0"
      ]
     },
     "execution_count": 2,
     "metadata": {},
     "output_type": "execute_result"
    }
   ],
   "source": [
    "import cv2\n",
    "import numpy as np\n",
    "img=cv2.imread('i5.jpg')\n",
    "cv2.imshow('i5.jpg',img)\n",
    "cv2.waitKey(0)\n",
    "#min_channels=np.amin([np.amin(img[:,:,0]),np.amin(img[:,:,1]),np.amin(img[:,:,2])])\n",
    "#print(min_channels)\n",
    "np.min(img)"
   ]
  },
  {
   "cell_type": "code",
   "execution_count": 3,
   "id": "364a2750",
   "metadata": {},
   "outputs": [
    {
     "data": {
      "text/plain": [
       "182.0143389015189"
      ]
     },
     "execution_count": 3,
     "metadata": {},
     "output_type": "execute_result"
    }
   ],
   "source": [
    "import cv2\n",
    "import numpy as np\n",
    "img=cv2.imread('i5.jpg')\n",
    "cv2.imshow('i5.jpg',img)\n",
    "cv2.waitKey(0)\n",
    "np.average(img)"
   ]
  },
  {
   "cell_type": "code",
   "execution_count": 4,
   "id": "87098c33",
   "metadata": {},
   "outputs": [
    {
     "data": {
      "text/plain": [
       "91.78772472930054"
      ]
     },
     "execution_count": 4,
     "metadata": {},
     "output_type": "execute_result"
    }
   ],
   "source": [
    "import cv2\n",
    "import numpy as np\n",
    "img=cv2.imread('i5.jpg')\n",
    "cv2.imshow('i5.jpg',img)\n",
    "cv2.waitKey(0)\n",
    "np.std(img)"
   ]
  },
  {
   "cell_type": "code",
   "execution_count": 5,
   "id": "0dd7a8da",
   "metadata": {},
   "outputs": [
    {
     "data": {
      "text/plain": [
       "182.0143389015189"
      ]
     },
     "execution_count": 5,
     "metadata": {},
     "output_type": "execute_result"
    }
   ],
   "source": [
    "import cv2\n",
    "import numpy as np\n",
    "img=cv2.imread('i5.jpg')\n",
    "cv2.imshow('i5.jpg',img)\n",
    "cv2.waitKey(0)\n",
    "np.mean(img)"
   ]
  },
  {
   "cell_type": "code",
   "execution_count": 6,
   "id": "52c90790",
   "metadata": {},
   "outputs": [
    {
     "data": {
      "text/plain": [
       "8424.986410981848"
      ]
     },
     "execution_count": 6,
     "metadata": {},
     "output_type": "execute_result"
    }
   ],
   "source": [
    "import cv2\n",
    "import numpy as np\n",
    "img=cv2.imread('i5.jpg')\n",
    "cv2.imshow('i5.jpg',img)\n",
    "cv2.waitKey(0)\n",
    "np.var(img)"
   ]
  },
  {
   "cell_type": "code",
   "execution_count": 7,
   "id": "494dfd8b",
   "metadata": {},
   "outputs": [
    {
     "name": "stdout",
     "output_type": "stream",
     "text": [
      "[87.73049710736122, 91.63972834740761, 94.72520915789711]\n"
     ]
    }
   ],
   "source": [
    "from PIL import Image, ImageStat\n",
    "\n",
    "im = Image.open('i5.jpg')\n",
    "stat = ImageStat.Stat(im)\n",
    "print(stat.stddev)"
   ]
  },
  {
   "cell_type": "code",
   "execution_count": null,
   "id": "03c64b90",
   "metadata": {},
   "outputs": [],
   "source": []
  }
 ],
 "metadata": {
  "kernelspec": {
   "display_name": "Python 3 (ipykernel)",
   "language": "python",
   "name": "python3"
  },
  "language_info": {
   "codemirror_mode": {
    "name": "ipython",
    "version": 3
   },
   "file_extension": ".py",
   "mimetype": "text/x-python",
   "name": "python",
   "nbconvert_exporter": "python",
   "pygments_lexer": "ipython3",
   "version": "3.9.7"
  }
 },
 "nbformat": 4,
 "nbformat_minor": 5
}
